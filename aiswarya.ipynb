{
  "nbformat": 4,
  "nbformat_minor": 0,
  "metadata": {
    "colab": {
      "name": "aiswarya.ipynb",
      "provenance": []
    },
    "kernelspec": {
      "name": "python3",
      "display_name": "Python 3"
    },
    "language_info": {
      "name": "python"
    }
  },
  "cells": [
    {
      "cell_type": "code",
      "metadata": {
        "id": "Ot0aSjZKNRqM"
      },
      "source": [
        ""
      ],
      "execution_count": null,
      "outputs": []
    },
    {
      "cell_type": "code",
      "metadata": {
        "colab": {
          "base_uri": "https://localhost:8080/"
        },
        "id": "k870rE0XAiLl",
        "outputId": "2623b3e8-a1d0-4108-a096-c512d6b316e7"
      },
      "source": [
        "import requests\n",
        "from datetime import datetime\n",
        "api_key = '75c938c7c00f5e5918bf0c3e179b9055'\n",
        "location = input('Enter the city name:')\n",
        "complete_api_link = \"https://api.openweathermap.org/data/2.5/weather?q=\"+location+\"&appid=\"+api_key\n",
        "api_link = requests.get(complete_api_link)\n",
        "api_data = api_link.json()\n",
        "\n"
      ],
      "execution_count": 7,
      "outputs": [
        {
          "output_type": "stream",
          "text": [
            "Enter the city name:kottayam\n"
          ],
          "name": "stdout"
        }
      ]
    },
    {
      "cell_type": "code",
      "metadata": {
        "colab": {
          "base_uri": "https://localhost:8080/"
        },
        "id": "XwxPBr_vEAW-",
        "outputId": "bfdebebe-23b5-4e6b-9dfc-ac3491931d93"
      },
      "source": [
        "temp_city = ((api_data['main']['temp']) - 273.15)\n",
        "weather_desc = api_data['weather'][0]['description']\n",
        "hmdt = api_data['main']['humidity']\n",
        "wind_spd = api_data['wind']['speed']\n",
        "date_time = datetime.now().strftime(\"%d %b %Y | %I:%M:%S %p\")\n",
        "print(\"----------------------------\")\n",
        "print(\"Weather Stats for - {} || {}\".format(location.upper(), date_time))\n",
        "print(\"----------------------------\")\n",
        "print (\"Current temperature is: {:.2f} deg C\".format(temp_city))\n",
        "print(\"Current weather desc   :\",weather_desc)\n",
        "print(\"Current Humidity       :\",hmdt, '%')\n",
        "print(\"Current wind speed     :\",wind_spd,'kmph')"
      ],
      "execution_count": 8,
      "outputs": [
        {
          "output_type": "stream",
          "text": [
            "----------------------------\n",
            "Weather Stats for - KOTTAYAM || 24 Jun 2021 | 08:49:28 AM\n",
            "----------------------------\n",
            "Current temperature is: 31.01 deg C\n",
            "Current weather desc   : broken clouds\n",
            "Current Humidity       : 65 %\n",
            "Current wind speed     : 3.51 kmph\n"
          ],
          "name": "stdout"
        }
      ]
    }
  ]
}